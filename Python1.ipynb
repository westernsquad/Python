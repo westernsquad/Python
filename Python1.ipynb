{
  "nbformat": 4,
  "nbformat_minor": 0,
  "metadata": {
    "colab": {
      "name": "Python1.ipynb",
      "version": "0.3.2",
      "provenance": [],
      "collapsed_sections": []
    },
    "kernelspec": {
      "name": "python3",
      "display_name": "Python 3"
    }
  },
  "cells": [
    {
      "metadata": {
        "id": "BXiqmTzgSqBd",
        "colab_type": "text"
      },
      "cell_type": "markdown",
      "source": [
        "# Operadores:\n",
        "\n",
        "## Aritméticos:\n",
        "\n",
        "- Suma (+) y Resta (-)\n",
        "- Multiplicación (*), División Real (/), División entera (//), y Resto (%)\n",
        "- Identidad (+).\n",
        "- Cambio de signo (-).\n",
        "- Potencia (**)\n",
        "\n",
        "\n"
      ]
    },
    {
      "metadata": {
        "id": "Cxlzu1dCSopI",
        "colab_type": "code",
        "colab": {}
      },
      "cell_type": "code",
      "source": [
        "3 + 4"
      ],
      "execution_count": 0,
      "outputs": []
    },
    {
      "metadata": {
        "id": "sirRgpQeUwsK",
        "colab_type": "code",
        "colab": {}
      },
      "cell_type": "code",
      "source": [
        "6 - 2"
      ],
      "execution_count": 0,
      "outputs": []
    },
    {
      "metadata": {
        "id": "mE3Wxrl3UyS7",
        "colab_type": "code",
        "colab": {}
      },
      "cell_type": "code",
      "source": [
        "4 * 5"
      ],
      "execution_count": 0,
      "outputs": []
    },
    {
      "metadata": {
        "id": "FQWWEzUMU05L",
        "colab_type": "code",
        "colab": {}
      },
      "cell_type": "code",
      "source": [
        "7 / 3"
      ],
      "execution_count": 0,
      "outputs": []
    },
    {
      "metadata": {
        "id": "CChrAx25U3ea",
        "colab_type": "code",
        "colab": {}
      },
      "cell_type": "code",
      "source": [
        "7 // 3"
      ],
      "execution_count": 0,
      "outputs": []
    },
    {
      "metadata": {
        "id": "UDJT8cXPU5Kq",
        "colab_type": "code",
        "colab": {}
      },
      "cell_type": "code",
      "source": [
        "7 % 3"
      ],
      "execution_count": 0,
      "outputs": []
    },
    {
      "metadata": {
        "id": "COsBWrE-U7LT",
        "colab_type": "code",
        "colab": {}
      },
      "cell_type": "code",
      "source": [
        "+42"
      ],
      "execution_count": 0,
      "outputs": []
    },
    {
      "metadata": {
        "id": "V01CfO7oU9J7",
        "colab_type": "code",
        "colab": {}
      },
      "cell_type": "code",
      "source": [
        "-9"
      ],
      "execution_count": 0,
      "outputs": []
    },
    {
      "metadata": {
        "id": "1IE2zlAvU--i",
        "colab_type": "code",
        "colab": {}
      },
      "cell_type": "code",
      "source": [
        "-+9"
      ],
      "execution_count": 0,
      "outputs": []
    },
    {
      "metadata": {
        "id": "isTFr0xCVAwB",
        "colab_type": "code",
        "colab": {}
      },
      "cell_type": "code",
      "source": [
        "--9"
      ],
      "execution_count": 0,
      "outputs": []
    },
    {
      "metadata": {
        "id": "f1DUwbFpVCM4",
        "colab_type": "code",
        "colab": {}
      },
      "cell_type": "code",
      "source": [
        "2 ** 3"
      ],
      "execution_count": 0,
      "outputs": []
    },
    {
      "metadata": {
        "id": "LsUSTN5gUlxy",
        "colab_type": "text"
      },
      "cell_type": "markdown",
      "source": [
        "¿Qué ocurre si intento ejecutar la siguiente instrucción?\n",
        "\n",
        "```\n",
        "100 ** 100\n",
        "```\n",
        "\n"
      ]
    },
    {
      "metadata": {
        "id": "PfQhZcgSVjm6",
        "colab_type": "code",
        "colab": {}
      },
      "cell_type": "code",
      "source": [
        "100 ** 100"
      ],
      "execution_count": 0,
      "outputs": []
    },
    {
      "metadata": {
        "id": "5D9XLxmgVqxY",
        "colab_type": "text"
      },
      "cell_type": "markdown",
      "source": [
        "### Precedencia de operadores\n",
        "\n",
        "A la hora de evaluar expresiones aritméticas, Python aplica las mismas reglas que se aplican en Matemáticas para resolver una expresión.\n",
        "\n",
        "La precedencia de los operadores va de menor a mayor en la lista antes mostrada (tiene mayor precedencia la multiplicación sobre la resta, por ejemplo)\n",
        "\n",
        "Las operaciones que aparecen en la misma fila, tienen la misma precedencia. Ante la misma precedencia, las operaciones se evaluan de izquierda a derecha salvo en el caso de la potencia que es a la inversa.\n",
        "\n",
        "Podemos modificar la forma en la que se evalua una expresión utilizando parentesis \"(\" y \")\"."
      ]
    },
    {
      "metadata": {
        "id": "IyY9LNv-W0VY",
        "colab_type": "text"
      },
      "cell_type": "markdown",
      "source": [
        "¿A qué equivale la siguiente expresión?\n",
        "\n",
        "\n",
        "```\n",
        "3 - 4 + 2\n",
        "```\n",
        "\n",
        "- Opción 1:\n",
        "\n",
        "```\n",
        "(3 - 4) + 2 = 1\n",
        "```\n",
        "\n",
        "- Opción 2:\n",
        "\n",
        "```\n",
        "3 - (4 + 2) = -3\n",
        "```\n",
        "\n"
      ]
    },
    {
      "metadata": {
        "id": "W0FTfrQLXtSH",
        "colab_type": "code",
        "colab": {}
      },
      "cell_type": "code",
      "source": [
        "3 - 4 + 2"
      ],
      "execution_count": 0,
      "outputs": []
    },
    {
      "metadata": {
        "id": "u5xAYpm4X1yY",
        "colab_type": "text"
      },
      "cell_type": "markdown",
      "source": [
        "¿Y estas otras expresiones?"
      ]
    },
    {
      "metadata": {
        "id": "rZ8DcCPqYNcA",
        "colab_type": "code",
        "colab": {}
      },
      "cell_type": "code",
      "source": [
        "2 ** 3 ** 2"
      ],
      "execution_count": 0,
      "outputs": []
    },
    {
      "metadata": {
        "id": "sYfBUg7DYShw",
        "colab_type": "code",
        "colab": {}
      },
      "cell_type": "code",
      "source": [
        "2 ** 2 + 1"
      ],
      "execution_count": 0,
      "outputs": []
    },
    {
      "metadata": {
        "id": "dtbNYpmtYgy4",
        "colab_type": "code",
        "colab": {}
      },
      "cell_type": "code",
      "source": [
        "2 + 3 * -4"
      ],
      "execution_count": 0,
      "outputs": []
    },
    {
      "metadata": {
        "id": "tj6j_3CfbAeN",
        "colab_type": "text"
      },
      "cell_type": "markdown",
      "source": [
        "### Tipos númericos\n",
        "\n",
        "En Python 3 existen tres tipos númericos, int, float y complex.\n",
        "\n",
        "A la hora de crear una variable, el valor 37 es de tipo int, mientras que 37.0 es de tipo float. Se puede forzar el tipo de una variable usando su constructor:\n",
        "\n",
        "```\n",
        "a = int(37.0)\n",
        "b = float(42)\n",
        "c = complex(2, -3)\n",
        "\n",
        "```\n",
        "Las variables a, b y c son de tipo int, float y complex respectivamente. Podemos averiguar el tipo de una variable usando la función type().\n",
        "\n",
        "```\n",
        "type(a)\n",
        "type(b)\n",
        "type(c)\n",
        "```"
      ]
    },
    {
      "metadata": {
        "id": "z6MUiZ5gbJF8",
        "colab_type": "code",
        "colab": {}
      },
      "cell_type": "code",
      "source": [
        "a = int(37.0)\n",
        "b = float(42)\n",
        "c = complex(2, -3)"
      ],
      "execution_count": 0,
      "outputs": []
    },
    {
      "metadata": {
        "id": "ZRnW6Rp5bNGj",
        "colab_type": "code",
        "colab": {}
      },
      "cell_type": "code",
      "source": [
        "type(a)\n"
      ],
      "execution_count": 0,
      "outputs": []
    },
    {
      "metadata": {
        "id": "HDmvyqf8baOE",
        "colab_type": "code",
        "colab": {}
      },
      "cell_type": "code",
      "source": [
        "type(b)"
      ],
      "execution_count": 0,
      "outputs": []
    },
    {
      "metadata": {
        "id": "ig6LlsaJdsRa",
        "colab_type": "code",
        "colab": {}
      },
      "cell_type": "code",
      "source": [
        "type(c)"
      ],
      "execution_count": 0,
      "outputs": []
    },
    {
      "metadata": {
        "id": "eSOAd2MWd1_5",
        "colab_type": "text"
      },
      "cell_type": "markdown",
      "source": [
        "Si en una expresión mezclamos tipos de datos, el resultado sera el tipo de dato menos restrictivo."
      ]
    },
    {
      "metadata": {
        "id": "YOJS3eiCeG1Z",
        "colab_type": "code",
        "colab": {}
      },
      "cell_type": "code",
      "source": [
        "type(3 * 2 + 1.0)"
      ],
      "execution_count": 0,
      "outputs": []
    },
    {
      "metadata": {
        "id": "cFvzVKc9eOJC",
        "colab_type": "code",
        "colab": {}
      },
      "cell_type": "code",
      "source": [
        "type(int(3 * 2 + 1.0))"
      ],
      "execution_count": 0,
      "outputs": []
    },
    {
      "metadata": {
        "id": "SkeYtzDIe7x6",
        "colab_type": "text"
      },
      "cell_type": "markdown",
      "source": [
        "### Otras operaciones con números\n",
        "\n",
        "Además de los constructores vistos, existen otras funciones predefinidas para valores núméricos.\n",
        "\n",
        "- abs(x): devuelve el valor absoluto de un número.\n",
        "- divmod(x, y): devuelve a la vez, el resultado de la división y el resto.\n",
        "- pow(x, y): similar a x ** y.\n",
        "\n",
        "Si c es un número complejo, c.conjugate() devuelve su conjugado."
      ]
    },
    {
      "metadata": {
        "id": "4FzzOnSpgAVP",
        "colab_type": "code",
        "colab": {}
      },
      "cell_type": "code",
      "source": [
        "abs(-3)"
      ],
      "execution_count": 0,
      "outputs": []
    },
    {
      "metadata": {
        "id": "AxRavd6tgCtH",
        "colab_type": "code",
        "colab": {}
      },
      "cell_type": "code",
      "source": [
        "divmod(7, 3)"
      ],
      "execution_count": 0,
      "outputs": []
    },
    {
      "metadata": {
        "id": "la938Ne-gFdm",
        "colab_type": "code",
        "colab": {}
      },
      "cell_type": "code",
      "source": [
        "pow(2, 3)"
      ],
      "execution_count": 0,
      "outputs": []
    },
    {
      "metadata": {
        "id": "DKS3K69egRXw",
        "colab_type": "code",
        "colab": {}
      },
      "cell_type": "code",
      "source": [
        "complex(4, 2).conjugate()"
      ],
      "execution_count": 0,
      "outputs": []
    },
    {
      "metadata": {
        "id": "k5eUslpTqA7I",
        "colab_type": "text"
      },
      "cell_type": "markdown",
      "source": [
        "### Ejercicios\n",
        "\n",
        "1- Calcula el area de un rectángulo de base = 37 y altura = 13.\n",
        "\n",
        "2- Calcula el perimetro de una circunferencia de radio 29 metros.\n",
        "\n",
        "3- Resuelve la ecuación de primer grado ax + b = 0"
      ]
    },
    {
      "metadata": {
        "id": "KJGI-6H0qCPV",
        "colab_type": "code",
        "colab": {}
      },
      "cell_type": "code",
      "source": [
        "base = 37\n",
        "altura = 13\n",
        "area = None\n",
        "area"
      ],
      "execution_count": 0,
      "outputs": []
    },
    {
      "metadata": {
        "id": "LRBLsUmJtB59",
        "colab_type": "code",
        "colab": {}
      },
      "cell_type": "code",
      "source": [
        "radio = 29\n",
        "perimetro = None\n",
        "perimetro"
      ],
      "execution_count": 0,
      "outputs": []
    },
    {
      "metadata": {
        "id": "Ochtzk0Bua9J",
        "colab_type": "code",
        "colab": {}
      },
      "cell_type": "code",
      "source": [
        "a = None\n",
        "b = None\n",
        "resultado = None\n",
        "resultado"
      ],
      "execution_count": 0,
      "outputs": []
    },
    {
      "metadata": {
        "id": "EAuXalJImTX5",
        "colab_type": "text"
      },
      "cell_type": "markdown",
      "source": [
        "## Operadores de comparación\n",
        "\n",
        "- Menor que (<)\n",
        "- Menor igual que (<=)\n",
        "- Mayor que (>)\n",
        "- Mayor igual que (>=)\n",
        "- Igual que (==)\n",
        "- Distinto que (!=)\n",
        "- Idendidad de objeto (is)\n",
        "- Distinto objeto (is not)\n",
        "\n",
        "Todos tienen la misma precedencia y es menor a la de los operadores aritméticos.\n",
        "\n",
        "Pueden encadenarse:"
      ]
    },
    {
      "metadata": {
        "id": "EUtPLKB3mSRJ",
        "colab_type": "code",
        "colab": {}
      },
      "cell_type": "code",
      "source": [
        "3 < 4 < 5"
      ],
      "execution_count": 0,
      "outputs": []
    },
    {
      "metadata": {
        "id": "4I1qg2surpdF",
        "colab_type": "text"
      },
      "cell_type": "markdown",
      "source": [
        "## Operadores Booleanos\n",
        "\n",
        "- or: True si alguno de los valores es True\n",
        "- and: False si alguno de los valores es False\n",
        "- not: True es False y False es True\n",
        "\n",
        "Precedencia en orden ascendente, menor que los operadores de comparación"
      ]
    },
    {
      "metadata": {
        "id": "yu6oT_o3ropV",
        "colab_type": "code",
        "colab": {}
      },
      "cell_type": "code",
      "source": [
        "a = True\n",
        "b = True\n",
        "not a == b"
      ],
      "execution_count": 0,
      "outputs": []
    },
    {
      "metadata": {
        "id": "-CRP6DgJsesU",
        "colab_type": "code",
        "colab": {}
      },
      "cell_type": "code",
      "source": [
        "not (a == b)"
      ],
      "execution_count": 0,
      "outputs": []
    },
    {
      "metadata": {
        "id": "z9LvIMtmshjk",
        "colab_type": "code",
        "colab": {}
      },
      "cell_type": "code",
      "source": [
        "a == not b"
      ],
      "execution_count": 0,
      "outputs": []
    },
    {
      "metadata": {
        "id": "M_QAMtU4rJVt",
        "colab_type": "text"
      },
      "cell_type": "markdown",
      "source": [
        "### Ejercicios\n",
        "\n",
        "1- Un año es bisiesto si es divisible por 4 pero no es divisible por 100, salvo que sea divisible por 400. ¿Es el año 1900 bisiesto, y el 2000?\n",
        "\n",
        "Sustituye None por el código correspondiente."
      ]
    },
    {
      "metadata": {
        "id": "29n2z9QVsnxY",
        "colab_type": "code",
        "colab": {}
      },
      "cell_type": "code",
      "source": [
        "anio = 1900\n",
        "bisiesto = None\n",
        "bisiesto"
      ],
      "execution_count": 0,
      "outputs": []
    },
    {
      "metadata": {
        "id": "SNblXf2Kv6ej",
        "colab_type": "text"
      },
      "cell_type": "markdown",
      "source": [
        "# Sentencia condicional if\n",
        "\n",
        "Tiene la siguiente pinta:\n",
        "\n",
        "```\n",
        "if condicion1:\n",
        "   instruccion1\n",
        "   instruccion2\n",
        "   ...\n",
        "   instruccion3\n",
        "```\n",
        "\n",
        "Como se aprecia, no hay llaves ni palabras clave delimitadoras. El ambito del if lo determina la indentación, las instrucciones despues del if indentadas están dentro del if y se sale eliminando la indentación.\n",
        "\n",
        "La forma genérica del if es:\n",
        "\n",
        "```\n",
        "if condicion1:\n",
        "  instruccion1\n",
        "elif condicion2:\n",
        "  instruccion2\n",
        "else:\n",
        "  instruccion3\n",
        "```\n",
        "\n",
        "Si la condicion 1 es cierta se ejecuta la instrucción 1. Si es falsa pero la condicion 2 es cierta, se ejecuta la instrucción 2. Si ninguna es cierta se ejecuta la insntrucción 3.\n"
      ]
    },
    {
      "metadata": {
        "id": "VuuEvAQew2T4",
        "colab_type": "code",
        "colab": {}
      },
      "cell_type": "code",
      "source": [
        "a = 3\n",
        "if a % 2 == 0:\n",
        "  print('Par')\n",
        "else:\n",
        "  print('impar')"
      ],
      "execution_count": 0,
      "outputs": []
    },
    {
      "metadata": {
        "id": "zI6IuDSrxNXL",
        "colab_type": "text"
      },
      "cell_type": "markdown",
      "source": [
        "## Ejercicios\n",
        "\n",
        "1- Mejora el cálculo del año bisiesto para que solo realice el cálculo si el año es par (ningún año impar es bisiesto)"
      ]
    },
    {
      "metadata": {
        "id": "5C0tmrDSxasX",
        "colab_type": "code",
        "colab": {}
      },
      "cell_type": "code",
      "source": [
        "None"
      ],
      "execution_count": 0,
      "outputs": []
    },
    {
      "metadata": {
        "id": "0XKRsUHbxpt2",
        "colab_type": "text"
      },
      "cell_type": "markdown",
      "source": [
        "# Bucle for\n",
        "\n",
        "El bucle for es ligeramente distinto al encontrado en otros lenguajes. en lugar de iterar mientras se cumpla una condición, el for en Python itera sobre una lista de valores:\n",
        "\n",
        "```\n",
        "for name in ['pepe', 'paco', 'juan']:\n",
        "  print(name)\n",
        "```\n",
        "Es habitual utilizar un for para iterar N veces, para realizar esto en Python necesitamos tener una lista de valores.\n",
        "\n",
        "```\n",
        "for i in [0, 1, 2, 3, 4]:\n",
        "  print(i*2)\n",
        "```\n",
        "Para evitar tener que generar la lista, podemos utilizar la función range:\n",
        "\n",
        "\n",
        "```\n",
        "for i in range(10):\n",
        "  print(i)\n",
        "```\n",
        "\n",
        "\n",
        "\n"
      ]
    },
    {
      "metadata": {
        "id": "5SkhtHtEzRz1",
        "colab_type": "code",
        "colab": {}
      },
      "cell_type": "code",
      "source": [
        "for name in ['pepe', 'paco', 'juan']:\n",
        "  print(name)"
      ],
      "execution_count": 0,
      "outputs": []
    },
    {
      "metadata": {
        "id": "ZcwkcArzzVDW",
        "colab_type": "code",
        "colab": {}
      },
      "cell_type": "code",
      "source": [
        "for i in [0, 1, 2, 3, 4]:\n",
        "  print(i*2)"
      ],
      "execution_count": 0,
      "outputs": []
    },
    {
      "metadata": {
        "id": "HenXgibWzXUt",
        "colab_type": "code",
        "colab": {}
      },
      "cell_type": "code",
      "source": [
        "for i in range(10):\n",
        "  print(i)"
      ],
      "execution_count": 0,
      "outputs": []
    },
    {
      "metadata": {
        "id": "clu2KTKDzc5W",
        "colab_type": "text"
      },
      "cell_type": "markdown",
      "source": [
        "## Ejercicio\n",
        "\n",
        "1- Imprimir por pantalla las potencias de 2 de los números del 1 al 9\n",
        "\n",
        "2- Pintar por pantalla una piramide de N alturas. Una piramide de 4 alturas sería:\n",
        "\n",
        "\n",
        "```\n",
        "   *\n",
        "  ***\n",
        " *****\n",
        "*******\n",
        "```\n",
        "\n"
      ]
    },
    {
      "metadata": {
        "id": "2q3hY6v00JMM",
        "colab_type": "code",
        "colab": {}
      },
      "cell_type": "code",
      "source": [
        "None"
      ],
      "execution_count": 0,
      "outputs": []
    },
    {
      "metadata": {
        "id": "k5x-aRozYsfM",
        "colab_type": "text"
      },
      "cell_type": "markdown",
      "source": [
        "# String: Cadenas de caracteres\n",
        "\n",
        "Como en otros lenguajes, en Python los string se entrecomillan, pero a diferencia de otros lenguajes, Python acepta tanto comillas simples 'Hola' o comillas dobles \"Mundo\"."
      ]
    },
    {
      "metadata": {
        "id": "AnfHvzWoZJl0",
        "colab_type": "code",
        "colab": {}
      },
      "cell_type": "code",
      "source": [
        "print('Hola Mundo!')\n",
        "print('Hola', \"Mundo!\")"
      ],
      "execution_count": 0,
      "outputs": []
    },
    {
      "metadata": {
        "id": "xriMR9VLZUxU",
        "colab_type": "text"
      },
      "cell_type": "markdown",
      "source": [
        "Si queremos imprimir algo entecomillado, para crear el string usaremos la otra comilla."
      ]
    },
    {
      "metadata": {
        "id": "YdO5uQvEZrc-",
        "colab_type": "code",
        "colab": {}
      },
      "cell_type": "code",
      "source": [
        "print('Esta frase tiene una \"palabra\" entrecomillada.')"
      ],
      "execution_count": 0,
      "outputs": []
    },
    {
      "metadata": {
        "id": "d7Vhs6RbZz0T",
        "colab_type": "text"
      },
      "cell_type": "markdown",
      "source": [
        "## Operaciones básicas\n",
        "\n",
        "Se puede concatenar cadenas con el operador suma (+). También se puede repetir una cadena utilizando el operador multiplicación (*)."
      ]
    },
    {
      "metadata": {
        "id": "Ccq4G35aaKvt",
        "colab_type": "code",
        "colab": {}
      },
      "cell_type": "code",
      "source": [
        "print('Hola ' + \"Mundo!\")\n",
        "print('Hola' * 3)"
      ],
      "execution_count": 0,
      "outputs": []
    },
    {
      "metadata": {
        "id": "SrL_f5S3aW_v",
        "colab_type": "text"
      },
      "cell_type": "markdown",
      "source": [
        "# Range\n",
        "\n",
        "Al ver los bucles for hemos visto los rangos, los hemos visto en su forma simplificada, donde dado un N se genera un rango entre 0 y N de 1 en 1.\n",
        "\n",
        "Un tipo rango es un \"enumerador\" o \"generador\" ya que en realidad no tiene todos los elementos del rango, si no que los genera segun se le piden. Al imprimir un rango por pantalla no recibiremos la salida que esperamos:"
      ]
    },
    {
      "metadata": {
        "id": "GIaVdmFebFlA",
        "colab_type": "code",
        "colab": {}
      },
      "cell_type": "code",
      "source": [
        "print(range(10))"
      ],
      "execution_count": 0,
      "outputs": []
    },
    {
      "metadata": {
        "id": "gDx5wUTjbIPy",
        "colab_type": "text"
      },
      "cell_type": "markdown",
      "source": [
        "Por ello utilizaremos el constructor de lista list(range(N)). Veremos las listas más adelante, esto simplemente es para poder visualizar el rango."
      ]
    },
    {
      "metadata": {
        "id": "PLIxjlLKbTOf",
        "colab_type": "code",
        "colab": {}
      },
      "cell_type": "code",
      "source": [
        "print(list(range(10)))"
      ],
      "execution_count": 0,
      "outputs": []
    },
    {
      "metadata": {
        "id": "TSH9HnDebWtL",
        "colab_type": "text"
      },
      "cell_type": "markdown",
      "source": [
        "Como se puede apreciar, se genera un rango de 0 a N-1. El limite superior no está incluido en el rango.\n",
        "\n",
        "Si le pasamos 2 parametros, interpretará el primero como el punto de inicio del rango el segundo como su limite, generando un rango que incluye el inicio, pero no llega al limite:"
      ]
    },
    {
      "metadata": {
        "id": "fxYzc_BWbt61",
        "colab_type": "code",
        "colab": {}
      },
      "cell_type": "code",
      "source": [
        "print(list(range(3,9)))"
      ],
      "execution_count": 0,
      "outputs": []
    },
    {
      "metadata": {
        "id": "rEzyVkvAbz2v",
        "colab_type": "text"
      },
      "cell_type": "markdown",
      "source": [
        "Si añadimos un tercer parametro, lo interpretará como el incremento, por ejemplo:"
      ]
    },
    {
      "metadata": {
        "id": "dTWMKjd1b1Qp",
        "colab_type": "code",
        "colab": {}
      },
      "cell_type": "code",
      "source": [
        "print(list(range(3, 9, 2)))"
      ],
      "execution_count": 0,
      "outputs": []
    },
    {
      "metadata": {
        "id": "JsmuYOa3cHEF",
        "colab_type": "code",
        "colab": {}
      },
      "cell_type": "code",
      "source": [
        "print(list(range(10, 0, -1)))"
      ],
      "execution_count": 0,
      "outputs": []
    },
    {
      "metadata": {
        "id": "yubsywr7cNf6",
        "colab_type": "text"
      },
      "cell_type": "markdown",
      "source": [
        "La versión simple range(n) es equivalente a range(0, n, 1)."
      ]
    },
    {
      "metadata": {
        "id": "2JIPi2iYcR8Y",
        "colab_type": "code",
        "colab": {}
      },
      "cell_type": "code",
      "source": [
        "print(list(range(10)))\n",
        "print(list(range(0, 10, 1)))"
      ],
      "execution_count": 0,
      "outputs": []
    },
    {
      "metadata": {
        "id": "AYz-QvxdcnRg",
        "colab_type": "text"
      },
      "cell_type": "markdown",
      "source": [
        "# Bucles\n",
        "\n",
        "Hemos echado un primer vistazo a los bulces for, que a diferencia de otros lenguajes recorre los elementos de una colección (por ejemplo un range).\n",
        "\n",
        "## Bucle While\n",
        "\n",
        "Python dispone también de un bucle while, similar al encontrado en otros lenguajes:\n",
        "\n",
        "```\n",
        "while condicion:\n",
        "  instruccion 1\n",
        "  instruccion2\n",
        "```\n",
        "  \n",
        "Ambos bucles aceptan las instrucciones break y continue. Con break conseguimos salir prematuramente de un bucle (por que se de un error, por que encontremos el elemento que buscamos, etc) y con continue forzamos a que el bucle vuelva a evaluarse.\n",
        "\n",
        "Se aconseja precaución al utilizar estas instrucciones, sólo cuando el código resultante sea más sencillo de leer."
      ]
    },
    {
      "metadata": {
        "id": "8BaS7mAwePrJ",
        "colab_type": "code",
        "colab": {}
      },
      "cell_type": "code",
      "source": [
        "l = list(range(10))\n",
        "for e in l:\n",
        "  if e == 3:\n",
        "    print('Elemento 3 encontrado.')\n",
        "    break"
      ],
      "execution_count": 0,
      "outputs": []
    },
    {
      "metadata": {
        "id": "vwTnfOi_emsc",
        "colab_type": "code",
        "colab": {}
      },
      "cell_type": "code",
      "source": [
        "i = 0\n",
        "while i < 10 and l[i] != 3:\n",
        "  i += 1\n",
        "if l[i] == 3:\n",
        "  print('Elemento 3 encontrado.')"
      ],
      "execution_count": 0,
      "outputs": []
    },
    {
      "metadata": {
        "id": "y4t9o6hOfBnS",
        "colab_type": "text"
      },
      "cell_type": "markdown",
      "source": [
        "Ambos bucles buscan en una collección la presencia del elemento 3 parando cuando lo encuentran. Pero el bucle for con el break, es más sencillo de leer y mantener.\n",
        "\n",
        "## Else en bucles\n",
        "\n",
        "La forma general de los bucles for y while es la siguiente:\n",
        "\n",
        "```\n",
        "for variable in coleccion:\n",
        "  instruccion1\n",
        "  instruccion2\n",
        "else:\n",
        "  instruccion3\n",
        "  \n",
        "while condicion:\n",
        "  instruccion1\n",
        "  instruccion2\n",
        " else:\n",
        "  instruccion3\n",
        "```\n",
        "\n",
        "La sección else en los bucles en Python tiene cierto debate. Aquí la explicamos por completitud.\n",
        "\n",
        "La instruccion3 en ambos bucles se ejecuta cuando la condición de iteración no se cumple (cuando se sobrepasa el último elemento de la colección en el caso del for).\n",
        "\n",
        "El siguiente, es un ejemplo de uso:"
      ]
    },
    {
      "metadata": {
        "id": "Db6W8c7Mgonx",
        "colab_type": "code",
        "colab": {}
      },
      "cell_type": "code",
      "source": [
        "for i in range(3):\n",
        "  password = input('Enter password: ')\n",
        "  if password == 'contraseña':\n",
        "    print(\"Correcto!\")\n",
        "    break\n",
        "else:\n",
        "  print('Has fallado 3 intentos.')"
      ],
      "execution_count": 0,
      "outputs": []
    },
    {
      "metadata": {
        "id": "Ykic4c89g_hg",
        "colab_type": "text"
      },
      "cell_type": "markdown",
      "source": [
        "El bucle se repite 3 veces, si aciertas el password, el break te saca del bucle, si fallas el password las 3 veces, la condición de iteración falla y se ejecuta la sección else."
      ]
    },
    {
      "metadata": {
        "id": "AXjvtW7ihPNg",
        "colab_type": "text"
      },
      "cell_type": "markdown",
      "source": [
        "# Funciones\n",
        "\n",
        "Hasta ahora hemos estado escribiendo instrucciones y se han ido ejecutando en modo script, una detras de otra. A partir de ahora agruparemos los disitntos ejercicios en funciones.\n",
        "\n",
        "En Python las funciones se definen como sigue:\n",
        "\n",
        "```\n",
        "def mifuncion(parametros):\n",
        "  instruccion1\n",
        "  instruccion2\n",
        "```\n",
        "\n",
        "Por ser un lenguaje dinámico, no se especifican el tipo de los parametros, esto tiene ciertas ventajas e inconvenientes:"
      ]
    },
    {
      "metadata": {
        "id": "adorAE8fiBbr",
        "colab_type": "code",
        "colab": {}
      },
      "cell_type": "code",
      "source": [
        "def imprime(parametro):\n",
        "  print(parametro)"
      ],
      "execution_count": 0,
      "outputs": []
    },
    {
      "metadata": {
        "id": "WRdAoJDYiILw",
        "colab_type": "text"
      },
      "cell_type": "markdown",
      "source": [
        "Definimos la función imprime (recordad ejecutar la celda para que la definición exista). Lo que hace es recibir un parametro, del tipo que sea y se lo pasa a print para imprimirlo por pantalla.\n",
        "\n",
        "Es función imprime tanto cadenas de caracteres como tipos numéricos:"
      ]
    },
    {
      "metadata": {
        "id": "gznpyhWRiYVI",
        "colab_type": "code",
        "colab": {}
      },
      "cell_type": "code",
      "source": [
        "imprime('hola')\n",
        "imprime('3.5')"
      ],
      "execution_count": 0,
      "outputs": []
    },
    {
      "metadata": {
        "id": "eLtfWHQLinXI",
        "colab_type": "text"
      },
      "cell_type": "markdown",
      "source": [
        "Si por el contrario, definimos la siguiente función que concatena el parametro recibido a la cadena 'Hola ':"
      ]
    },
    {
      "metadata": {
        "id": "TqUItjTPivDu",
        "colab_type": "code",
        "colab": {}
      },
      "cell_type": "code",
      "source": [
        "def concatena(parametro):\n",
        "  print('Hola ' + parametro)"
      ],
      "execution_count": 0,
      "outputs": []
    },
    {
      "metadata": {
        "id": "YhgBkqVpi17j",
        "colab_type": "text"
      },
      "cell_type": "markdown",
      "source": [
        "Funciona con cadenas, pero falla con tipos numéricos (o cualcuiera que no sepa concatenar a una cadena)."
      ]
    },
    {
      "metadata": {
        "id": "cjEoze3Yi8hh",
        "colab_type": "code",
        "colab": {}
      },
      "cell_type": "code",
      "source": [
        "concatena('pepe')\n",
        "concatena(42)"
      ],
      "execution_count": 0,
      "outputs": []
    },
    {
      "metadata": {
        "id": "cMeq6keJjJ-r",
        "colab_type": "text"
      },
      "cell_type": "markdown",
      "source": [
        "# Modulos\n",
        "\n",
        "Los modulos en Python es la forma de importar funciones útiles, creados por otros. Pueden ser modulos estandar de Python, creadas por terceros o por nosotros mismos.\n",
        "\n",
        "Por ejemplo, en Python existe el modulo 'math' con funciones matemáticas como seno y coseno (sin() y cos()) o constantes como pi y e.\n",
        "\n",
        "Para utilizar un modulo en Python hay que importarle\n",
        "\n",
        "```\n",
        "import math\n",
        "```\n",
        "\n",
        "De esta menera importaremos todo el contenido del modulo, si solo queremos importar una parte, por ejemplo la función ceil y la constante e:\n",
        "\n",
        "```\n",
        "from math import e, ceil\n",
        "```\n",
        "\n",
        "En el notebook, una vez ejecutada una celda con un import, ese import se conserva para el resto de las celdas."
      ]
    },
    {
      "metadata": {
        "id": "SePTsRY2kYDa",
        "colab_type": "code",
        "colab": {}
      },
      "cell_type": "code",
      "source": [
        "from math import e\n",
        "\n",
        "print(math.e)"
      ],
      "execution_count": 0,
      "outputs": []
    },
    {
      "metadata": {
        "id": "rqN4UYUNkeII",
        "colab_type": "text"
      },
      "cell_type": "markdown",
      "source": [
        "# Ejercicios\n",
        "\n",
        "1- Crea una función que dada una altura, pinte un rombo\n",
        "\n",
        "2- Crea una función que devuelva el área de un rectángulo.\n",
        "\n",
        "3- Crea una función que devuelva el perimetro de una circunferencia (utilizando math)\n",
        "\n",
        "4- Crea una función que resuelva una ecuación de segundo grado recibiendo a, b y c.\n",
        "\n",
        "5- Crea una función que calcule el factorial de n."
      ]
    },
    {
      "metadata": {
        "id": "fLpg_74PoGTK",
        "colab_type": "code",
        "colab": {}
      },
      "cell_type": "code",
      "source": [
        "None"
      ],
      "execution_count": 0,
      "outputs": []
    },
    {
      "metadata": {
        "id": "7UF9vP4ik_10",
        "colab_type": "text"
      },
      "cell_type": "markdown",
      "source": [
        "# Funciones 2\n",
        "\n",
        "## Valores por defecto\n",
        "\n",
        "Se pueden asignar valores por defecto a los parametros de las funciones:\n",
        "\n",
        "\n",
        "```\n",
        "def area(base = 3, altura = 4):\n",
        "  return (base * altura)\n",
        "```\n",
        "\n",
        "La función area devuelve el area de un rectángulo, si no recibe ningún parametro base valdrá 3 y altura 4, por lo tanto devolverá 12 como su area.\n",
        "\n",
        "Si por el contrario recibe un sólo parametro, este sobreescribirá el valor de la base, dejando la altura con valor 4:\n",
        "\n",
        "\n",
        "```\n",
        "area(5) # imprime 20 = 5 * 4\n",
        "```\n",
        "\n",
        "No todos los parametros han de tener valor por defecto:\n",
        "\n",
        "```\n",
        "def area2(base, altura = 7):\n",
        "  ...\n",
        "```\n",
        "\n",
        "area2 define una función que necesita un parametro (la base), ya no se puede llamar sin parametros. Si es llamada con un solo parametro, la altura valdrá 7.\n",
        "\n",
        "Lo que si es obligatorio es que a paritr de un parametro con valor por defecto, todos tienen que tener:\n",
        "\n",
        "\n",
        "```\n",
        "def invalid(base = 3, altura):\n",
        "  ...\n",
        "```\n",
        "\n",
        "Esta función no es valida.\n",
        "\n",
        "## Parametros por nombre\n",
        "\n",
        "Hasta ahora hemos asignado valores a parametros por posición. Si la función tiene 2 parametros y en la llamda doy dos valores:\n",
        "\n",
        "\n",
        "```\n",
        "area(5, 9)\n",
        "```\n",
        "\n",
        "Se que el primer valor (5) va al primer parametro (base) y el segundo valor (9) va al segundo (altura).\n",
        "\n",
        "Pero se puede asignar valores a parametros directamente por el nombre, no por la posición:\n",
        "\n",
        "\n",
        "```\n",
        "area(altura = 3, base = 4)\n",
        "```\n",
        "\n",
        "En esta llamada, se ha cambia do el orden de los parametros, pero como se le asgina el valor por nombre, el resultado es el esperado (la altura vale 3 y la base 4)\n",
        "\n",
        "Con la función area con los 2 parametros con valores por defecto, hasta ahora, si se llama con un único parametro, se modificaba siempre la base, ahora podemos modificar la altura:\n",
        "\n",
        "```\n",
        "area(5) # base vale 5, altura se queda con el valor por defecto, 4.\n",
        "area(altura = 5) # base se queda con el valor por defecto, 3 y altura vale 5\n",
        "```\n",
        "\n",
        "## Ejercicios\n",
        "\n",
        "1- Modificar la función que resuleve ecuaciones de segundo grado para que acepte valores por defcto.\n",
        "\n",
        "2- ¿De cuantas formas puedes llamar a la función con a = 3, b = 0, y c = -7?\n",
        "\n",
        "3- ¿Cuál es la solución a la ecuación de segundo grado con a = 1, b = 0 y c = -1?"
      ]
    },
    {
      "metadata": {
        "id": "q7DLZ2OFpQZo",
        "colab_type": "code",
        "colab": {}
      },
      "cell_type": "code",
      "source": [
        "None"
      ],
      "execution_count": 0,
      "outputs": []
    },
    {
      "metadata": {
        "id": "ksvmCj54pRoe",
        "colab_type": "text"
      },
      "cell_type": "markdown",
      "source": [
        "# Tuplas\n",
        "\n",
        "La forma más simple de agrupar datos en Python son las tuplas. Son colecciones heterogéneas, ordenadas e inmutables.\n",
        "\n",
        "Es una colección, y por lo tanto puede tener varios elementos, es heterogénea, puede tener elementos de distintos tipos y es inmutable, una vez creada no se pueden modificar ni el número de elementos (borrar o añadir) ni los elementos propiamente dichos.\n",
        "\n",
        "Para crear una tupla, encerramos entre parentesis los valores:\n"
      ]
    },
    {
      "metadata": {
        "id": "cYOWJTo3qcKV",
        "colab_type": "code",
        "colab": {}
      },
      "cell_type": "code",
      "source": [
        "t = ('Hola', 4)\n",
        "print(t)"
      ],
      "execution_count": 0,
      "outputs": []
    },
    {
      "metadata": {
        "id": "umfhg4UaqivY",
        "colab_type": "text"
      },
      "cell_type": "markdown",
      "source": [
        "Como cualquier colección, podemos acceder a sus elementos:"
      ]
    },
    {
      "metadata": {
        "id": "V4sZViS3qmAD",
        "colab_type": "code",
        "colab": {}
      },
      "cell_type": "code",
      "source": [
        "print(t[1])"
      ],
      "execution_count": 0,
      "outputs": []
    },
    {
      "metadata": {
        "id": "QNs5eaV6qoaX",
        "colab_type": "text"
      },
      "cell_type": "markdown",
      "source": [
        "Se pueden desempaquetar:"
      ]
    },
    {
      "metadata": {
        "id": "cljjlOJQqrLK",
        "colab_type": "code",
        "colab": {}
      },
      "cell_type": "code",
      "source": [
        "text, number = t\n",
        "print(text)"
      ],
      "execution_count": 0,
      "outputs": []
    },
    {
      "metadata": {
        "id": "V3geOjc_qwXr",
        "colab_type": "text"
      },
      "cell_type": "markdown",
      "source": [
        "Y podemos iterar sobre ella y saber el número de elementos con len():"
      ]
    },
    {
      "metadata": {
        "id": "O-hBqgkzqynF",
        "colab_type": "code",
        "colab": {}
      },
      "cell_type": "code",
      "source": [
        "print(len(t))\n",
        "for e in t:\n",
        "  print(e)"
      ],
      "execution_count": 0,
      "outputs": []
    },
    {
      "metadata": {
        "id": "CREwWi0vq6jk",
        "colab_type": "text"
      },
      "cell_type": "markdown",
      "source": [
        "# Ejercicios\n",
        "\n",
        "1- Modificar el ejerccio de la ecuación para que devuelva en una tupla todos los resultados.\n",
        "\n",
        "2- Crea un programa que, haciendo uso de la función anterior, muestra la/s solucion/es de una ecuación de segundo grado."
      ]
    },
    {
      "metadata": {
        "id": "kich6ImhrSRP",
        "colab_type": "code",
        "colab": {}
      },
      "cell_type": "code",
      "source": [
        "None"
      ],
      "execution_count": 0,
      "outputs": []
    },
    {
      "metadata": {
        "id": "_hEQTemarTOM",
        "colab_type": "text"
      },
      "cell_type": "markdown",
      "source": [
        "# Listas\n",
        "\n",
        "En Python las listas son colecciones heterogéneas y ordenadas. A diferencia de las tuplas, son mutables, podemos añadir, eliminar y modificar elementos.\n",
        "\n",
        "El problema es que son heterogeneas, y si no somos ortodoxos en su uso, eso puede traernos problemas.\n",
        "\n",
        "Para esta asignatura vamos a considerar las listas como homogéneas, que solo pueden guardar un mismo tipo, si por lo que sea queremos guardar parejas de texto y números, crearemos una lista de tuplas de texto y números:\n",
        "\n",
        "```\n",
        "l = list(('Hola', 4), ('Adios', 5))\n",
        "```\n",
        "\n",
        "Para crear una lista, además del constructor list() podemos usar corchetes (''[ ]'')\n",
        "\n",
        "```\n",
        "l = [1, 2, 3]\n",
        "```\n",
        "\n",
        "Igual que con las tuplas, podemos acceder a sus elementos, saber su longitud con len() e iterar sobre la colección.\n",
        "\n",
        "Además, entre otras funciones, las listas pueden incrementar el número de elementos que contienen con la función append():"
      ]
    },
    {
      "metadata": {
        "id": "nPpUfGqts1vL",
        "colab_type": "code",
        "colab": {}
      },
      "cell_type": "code",
      "source": [
        "l = [1, 2, 3]\n",
        "print(l)\n",
        "l.append(4)\n",
        "print(l)"
      ],
      "execution_count": 0,
      "outputs": []
    },
    {
      "metadata": {
        "id": "49qwQ0KDtBhP",
        "colab_type": "text"
      },
      "cell_type": "markdown",
      "source": [
        "# Ejercicios\n",
        "\n",
        "1- Crea una función que devuelva una lista con los números primos de 0 a 100.\n",
        "\n",
        "2- Dada una lista, imprimir los elementos en posición par.\n",
        "\n",
        "3- Un número es perfecto si la suma de sus divisores es igual a si mismo, ejemplo el 28. Crear una función que devuelva si un número es perfecto.\n",
        "\n",
        "4- Crear una función que recibe una lista de números y devuelve una lista de tuplas por cada elemento. Cada tupla tendrá el elemento, su cuadrado y su cubo.\n",
        "\n",
        "Ej:\n",
        "\n",
        "\n",
        "```\n",
        "[1, 2, 3] -> [(1, 1, 1), (2, 4, 8), (3, 9, 27)]\n",
        "```\n",
        "\n"
      ]
    },
    {
      "metadata": {
        "id": "LLuYHXtpt43t",
        "colab_type": "code",
        "colab": {}
      },
      "cell_type": "code",
      "source": [
        "None"
      ],
      "execution_count": 0,
      "outputs": []
    },
    {
      "metadata": {
        "id": "u39VI8_9t6Hp",
        "colab_type": "text"
      },
      "cell_type": "markdown",
      "source": [
        "# String 2\n",
        "\n",
        "Muchas veces, en un texto, habrá números con los que queremos poder operar, y otras veces tendremos números que querremos poder concatenar a texto para mostrar. En ambos casos necesitamos una forma de pasar de valores numéricos a texto y viceversa.\n",
        "\n",
        "Con los constructores int() y float() generaremos números enteros o en coma flotante. Como parametro han de recibir algo convertible, por ejemplo una cadena:"
      ]
    },
    {
      "metadata": {
        "id": "mB-jgZVVukRC",
        "colab_type": "code",
        "colab": {}
      },
      "cell_type": "code",
      "source": [
        "n = int('42') + 37\n",
        "print(n)\n",
        "m = float('3e-2')\n",
        "print(m)"
      ],
      "execution_count": 0,
      "outputs": []
    },
    {
      "metadata": {
        "id": "jRSIEjYbvAFP",
        "colab_type": "text"
      },
      "cell_type": "markdown",
      "source": [
        "Y a la inversa, podremos transformar un valor numérico a cadena con str():"
      ]
    },
    {
      "metadata": {
        "id": "3PrD9623vGJ-",
        "colab_type": "code",
        "colab": {}
      },
      "cell_type": "code",
      "source": [
        "n = 5\n",
        "print('N vale ' + str(5) + ' que es impar.')"
      ],
      "execution_count": 0,
      "outputs": []
    },
    {
      "metadata": {
        "id": "1WAjJ_zqvW56",
        "colab_type": "text"
      },
      "cell_type": "markdown",
      "source": [
        "Entre otras funciones, las cadenas disponen de funciones para manejar mayusculas y minusculas:"
      ]
    },
    {
      "metadata": {
        "id": "L4tGdZ5gvgb0",
        "colab_type": "code",
        "colab": {}
      },
      "cell_type": "code",
      "source": [
        "print(\"Hola\".lower())\n",
        "print('Hola'.upper())\n",
        "print('Hola que tal'.title())"
      ],
      "execution_count": 0,
      "outputs": []
    },
    {
      "metadata": {
        "id": "qoQkn1XTvxL5",
        "colab_type": "text"
      },
      "cell_type": "markdown",
      "source": [
        "Con las cadenas que hemos visto hasta ahora, si introducimos un salto de linea, Python lo interpretará como el final de la instrucción y dara un error de cadena no cerrada:"
      ]
    },
    {
      "metadata": {
        "id": "4J5WVNbfwHCz",
        "colab_type": "code",
        "colab": {}
      },
      "cell_type": "code",
      "source": [
        "print('Cadena con\n",
        "      salto de linea.') # Error"
      ],
      "execution_count": 0,
      "outputs": []
    },
    {
      "metadata": {
        "id": "qxIF3sofwPSV",
        "colab_type": "text"
      },
      "cell_type": "markdown",
      "source": [
        "Pero Python dispone de otro tipo de cadenas, cadenas largas o cadenas de documentación que si permiten saltos de linea. Se crean con triple comilla (ya sea 3 comillas simples o dobles):"
      ]
    },
    {
      "metadata": {
        "id": "fAe76bWuwgxL",
        "colab_type": "code",
        "colab": {}
      },
      "cell_type": "code",
      "source": [
        "print('''Cadena con \n",
        "salto de linea.''')"
      ],
      "execution_count": 0,
      "outputs": []
    },
    {
      "metadata": {
        "id": "VtWeEvT1wn_b",
        "colab_type": "text"
      },
      "cell_type": "markdown",
      "source": [
        "# Funciones 3\n",
        "\n",
        "Python incorpora mecanismos de documentación en el propio lenguaje. Si puedes de la cabecera de una función, lo siguiente que se encuentra es una cadena de documentación, la interpretará como la documentación de la función y podremos acceder a ella con la función help:\n",
        "\n"
      ]
    },
    {
      "metadata": {
        "id": "vh-ySCnZxOpt",
        "colab_type": "code",
        "colab": {}
      },
      "cell_type": "code",
      "source": [
        "def mifuncion():\n",
        "  '''Solo imprime \"Hola\"'''\n",
        "  print(\"Hola\")\n",
        "  \n",
        "mifuncion()\n",
        "help(mifuncion)"
      ],
      "execution_count": 0,
      "outputs": []
    },
    {
      "metadata": {
        "id": "-xxoPLgexiDt",
        "colab_type": "text"
      },
      "cell_type": "markdown",
      "source": [
        "Como se ha indicado antes, no podemos sabes el tipo de los parametros de una función en Python. Por lo tanto, en esta asignatura, toda función ha de tener documentación, con una breve descripción de lo que hace, que parametros recibe (y su tipo) y que devuelve (y su tipo).\n",
        "\n",
        "Por ejemplo la función area:"
      ]
    },
    {
      "metadata": {
        "id": "LT44Gyjax9Qs",
        "colab_type": "code",
        "colab": {}
      },
      "cell_type": "code",
      "source": [
        "def area(base = 3, altura = 4):\n",
        "  '''Calcula el area de un rectangulo.\n",
        "  \n",
        "  Args:\n",
        "    base(Number): base del rectangulo (3).\n",
        "    altura (Number): altura del rectangulo (4).\n",
        "  return:\n",
        "    Number: area del rectangulo.'''\n",
        "  \n",
        "  return base * altura\n",
        "\n",
        "\n",
        "help(area)"
      ],
      "execution_count": 0,
      "outputs": []
    },
    {
      "metadata": {
        "id": "7N7n6N1Cy5Ni",
        "colab_type": "text"
      },
      "cell_type": "markdown",
      "source": [
        "Si disponemos de los parametros de una función en una colección se pueden desempaqutar automaticamente:"
      ]
    },
    {
      "metadata": {
        "id": "3jdzRqv7zFuT",
        "colab_type": "code",
        "colab": {}
      },
      "cell_type": "code",
      "source": [
        "rectangle = [7, 8]\n",
        "area(*rectangle)"
      ],
      "execution_count": 0,
      "outputs": []
    },
    {
      "metadata": {
        "id": "bYzEK8jqzS3w",
        "colab_type": "text"
      },
      "cell_type": "markdown",
      "source": [
        "# Slice\n",
        "\n",
        "Hemos visto que se puede acceder a un elemento de un contenedor con los corchetes:"
      ]
    },
    {
      "metadata": {
        "id": "-jw4_EG7zk4m",
        "colab_type": "code",
        "colab": {}
      },
      "cell_type": "code",
      "source": [
        "a = (1, 'Hola', 3.5)\n",
        "print(a[1])"
      ],
      "execution_count": 0,
      "outputs": []
    },
    {
      "metadata": {
        "id": "3JBVR6SVzrdw",
        "colab_type": "text"
      },
      "cell_type": "markdown",
      "source": [
        "Si intentamos acceder fuera de rango, Python se quejara:"
      ]
    },
    {
      "metadata": {
        "id": "RNUvjpewzv00",
        "colab_type": "code",
        "colab": {}
      },
      "cell_type": "code",
      "source": [
        "print(a[3])"
      ],
      "execution_count": 0,
      "outputs": []
    },
    {
      "metadata": {
        "id": "QyPf_e4jz0E-",
        "colab_type": "text"
      },
      "cell_type": "markdown",
      "source": [
        "En realidad, cada vez que accedemos con corchetes, estamos definiendo un slice o rodaja. Esto es más potente que un acceso a un array.\n",
        "\n",
        "Podemos utilizar indices negativos para explorar la colección en sentido inverso:"
      ]
    },
    {
      "metadata": {
        "id": "PSowa3qD0RDC",
        "colab_type": "code",
        "colab": {}
      },
      "cell_type": "code",
      "source": [
        "print(a[-1])"
      ],
      "execution_count": 0,
      "outputs": []
    },
    {
      "metadata": {
        "id": "PHNuKQgi0WP1",
        "colab_type": "text"
      },
      "cell_type": "markdown",
      "source": [
        "Con el operador ':' podemos acceder a rangos:"
      ]
    },
    {
      "metadata": {
        "id": "h33QVgo40bVa",
        "colab_type": "code",
        "colab": {}
      },
      "cell_type": "code",
      "source": [
        "print('Hola'[0:2])\n",
        "print('Hola'[1:3])\n",
        "print('Hola'[1:])\n",
        "print('Hola'[:])\n",
        "print('Hola'[::2])"
      ],
      "execution_count": 0,
      "outputs": []
    },
    {
      "metadata": {
        "id": "aWaT3Rt40rnH",
        "colab_type": "text"
      },
      "cell_type": "markdown",
      "source": [
        "Si, además, la colección es mutable (por ejemplo una lista) podemos reescribir rangos:"
      ]
    },
    {
      "metadata": {
        "id": "VCDExKIi0y7M",
        "colab_type": "code",
        "colab": {}
      },
      "cell_type": "code",
      "source": [
        "l = [0, 1, 2, 3]\n",
        "print(l)\n",
        "print(l[::2])\n",
        "l[::2] = [4, 6]\n",
        "print(l)"
      ],
      "execution_count": 0,
      "outputs": []
    },
    {
      "metadata": {
        "id": "Y3-axl9C1Em-",
        "colab_type": "text"
      },
      "cell_type": "markdown",
      "source": [
        "# Ejercicios\n",
        "\n",
        "1- Crea una función que devuelva el máximo y mínimo de 2 números.\n",
        "\n",
        "2- Crea un función que devuelva el másimo y mínimo de una lista de números.\n",
        "\n",
        "3- Crea una función que recibe una cadena y la devuelve en sentido inverso.\n",
        "\n",
        "4- Crea una función que recibe una cadena y devuelve la misma cadena con sólo la primera letra mayuscula.\n",
        "\n",
        "5- Crea una función que imprima por pantalla una matriz (lista de lista de números)"
      ]
    },
    {
      "metadata": {
        "id": "JL8inxCv1lvM",
        "colab_type": "code",
        "colab": {}
      },
      "cell_type": "code",
      "source": [
        "None"
      ],
      "execution_count": 0,
      "outputs": []
    },
    {
      "metadata": {
        "id": "sjRpM7wf1mvb",
        "colab_type": "text"
      },
      "cell_type": "markdown",
      "source": [
        "# Listas 2\n",
        "\n",
        "La única colección mutable que hemos visto es la lista y a la hora de copiar una lista hay que tener una precaución añadida:"
      ]
    },
    {
      "metadata": {
        "id": "2acB3Hyu2Qrq",
        "colab_type": "code",
        "colab": {}
      },
      "cell_type": "code",
      "source": [
        "l1 = [1, 2, 3]\n",
        "l2 = l1\n",
        "l1[0] = 7\n",
        "print(l2)"
      ],
      "execution_count": 0,
      "outputs": []
    },
    {
      "metadata": {
        "id": "BL0hdXMN2bAM",
        "colab_type": "text"
      },
      "cell_type": "markdown",
      "source": [
        "Si asignamos una colección a otra, no la copiamos, hacemos que ambas variables apunten a la misma colección. Para realmente copiar una lista utilizaremos el operador copia (no tiene ese nombre, pero es habitual encontrarselo en código Python):"
      ]
    },
    {
      "metadata": {
        "id": "XxNr-Cap2rq4",
        "colab_type": "code",
        "colab": {}
      },
      "cell_type": "code",
      "source": [
        "l1 = [1, 2, 3]\n",
        "l2 = l1[:]\n",
        "l1[0] = 7\n",
        "print(l2)\n",
        "print(l1)"
      ],
      "execution_count": 0,
      "outputs": []
    },
    {
      "metadata": {
        "id": "yTMX_T-h24nA",
        "colab_type": "text"
      },
      "cell_type": "markdown",
      "source": [
        "Entre las funciones que tiene la lista estan pop() e insert(). La primera permite extraer elementos de la lista y la segunda insertarlos:"
      ]
    },
    {
      "metadata": {
        "id": "0I16oFLK3F0I",
        "colab_type": "code",
        "colab": {}
      },
      "cell_type": "code",
      "source": [
        "l = [1, 2, 3]\n",
        "print(l)\n",
        "print(l.pop(1))\n",
        "print(l)\n",
        "print(l.pop()) # sin parametro elimina el último elemento\n",
        "print(l)\n",
        "l.insert(0, 42)\n",
        "print(l)\n",
        "l.insert(5, 37)\n",
        "print(l)"
      ],
      "execution_count": 0,
      "outputs": []
    },
    {
      "metadata": {
        "id": "Ir2ypFRn4Hwd",
        "colab_type": "text"
      },
      "cell_type": "markdown",
      "source": [
        "# Ejercicios\n",
        "\n",
        "1- Utilizando una lista, implementa las funciones:\n",
        "\n",
        "```\n",
        "apilar(pila, elemento)\n",
        "desapilar(pila)\n",
        "```\n",
        "Que simulan una pila con una lista.\n",
        "\n",
        "2- Utilizando una lista, implementa las funciones:\n",
        "\n",
        "```\n",
        "encolar(cola, elemento)\n",
        "desencolar(cola)\n",
        "```\n",
        "Que simulan una cola con una lista.\n",
        "\n",
        "3- Implementa un programa que devuelva si en una cadena, que recibe de entrada, los parentesis están balanceados.\n",
        "\n"
      ]
    },
    {
      "metadata": {
        "id": "Enux6HkG43P5",
        "colab_type": "code",
        "colab": {}
      },
      "cell_type": "code",
      "source": [
        "None"
      ],
      "execution_count": 0,
      "outputs": []
    },
    {
      "metadata": {
        "id": "PMxPUscGoYtC",
        "colab_type": "text"
      },
      "cell_type": "markdown",
      "source": [
        "# Set\n",
        "\n",
        "Un conjunto es una colección desordenada y mutable de objetos hasheables.\n",
        "\n",
        "Los tipos básicos o las colecciones inmutables son hasheables, las colecciones mutables como las listas o diccionarios, no lo son.\n",
        "\n",
        "Para crear un conjunto ponemos sus elementos entre llaves ({})."
      ]
    },
    {
      "metadata": {
        "id": "3ULaIa7No5hh",
        "colab_type": "code",
        "colab": {}
      },
      "cell_type": "code",
      "source": [
        "s = {\"A\", 'B', 3}\n",
        "print(s)"
      ],
      "execution_count": 0,
      "outputs": []
    },
    {
      "metadata": {
        "id": "g2scPixupDX1",
        "colab_type": "text"
      },
      "cell_type": "markdown",
      "source": [
        "También existe el constructor set(), que es la única forma de crear el conjunto vacio. Las dos llaves {} definen un diccionario vacio, no un conjunto."
      ]
    },
    {
      "metadata": {
        "id": "0REVepbdpOQh",
        "colab_type": "code",
        "colab": {}
      },
      "cell_type": "code",
      "source": [
        "s1 = set()\n",
        "s2 = set([\"A\", 'B', 3])"
      ],
      "execution_count": 0,
      "outputs": []
    },
    {
      "metadata": {
        "id": "dQYb-Q0rpUHI",
        "colab_type": "text"
      },
      "cell_type": "markdown",
      "source": [
        "Como otras colecciones, soporta las operaciones de longitud:"
      ]
    },
    {
      "metadata": {
        "id": "9Rj-IA-upanP",
        "colab_type": "code",
        "colab": {}
      },
      "cell_type": "code",
      "source": [
        "len(s2)"
      ],
      "execution_count": 0,
      "outputs": []
    },
    {
      "metadata": {
        "id": "IrGFgkDwpcW2",
        "colab_type": "text"
      },
      "cell_type": "markdown",
      "source": [
        "Consulta si un elemento está en el conjuntos (más eficiente que otras colecciones):"
      ]
    },
    {
      "metadata": {
        "id": "hagh-uefpjQE",
        "colab_type": "code",
        "colab": {}
      },
      "cell_type": "code",
      "source": [
        "\"B\" in s"
      ],
      "execution_count": 0,
      "outputs": []
    },
    {
      "metadata": {
        "id": "8rQg_J-zpn0L",
        "colab_type": "text"
      },
      "cell_type": "markdown",
      "source": [
        "He iterar sobre sus elementos:"
      ]
    },
    {
      "metadata": {
        "id": "ZUqgzeu1pv5v",
        "colab_type": "code",
        "colab": {}
      },
      "cell_type": "code",
      "source": [
        "for e in s:\n",
        "  print(e)"
      ],
      "execution_count": 0,
      "outputs": []
    },
    {
      "metadata": {
        "id": "EN5MVZbKpzYd",
        "colab_type": "text"
      },
      "cell_type": "markdown",
      "source": [
        "Debido a que es una colección no ordenada, no puedo acceder a sus elementos a traves de slices."
      ]
    },
    {
      "metadata": {
        "id": "YzAten90p9vZ",
        "colab_type": "code",
        "colab": {}
      },
      "cell_type": "code",
      "source": [
        "s[0]"
      ],
      "execution_count": 0,
      "outputs": []
    },
    {
      "metadata": {
        "id": "X0yKt3drqDeE",
        "colab_type": "text"
      },
      "cell_type": "markdown",
      "source": [
        "Para modificar el conjunto puedo, añadir elementos:"
      ]
    },
    {
      "metadata": {
        "id": "cgywIXYSqHP0",
        "colab_type": "code",
        "colab": {}
      },
      "cell_type": "code",
      "source": [
        "s1.add('C')\n",
        "print(s1)"
      ],
      "execution_count": 0,
      "outputs": []
    },
    {
      "metadata": {
        "id": "-Chp-HpoqlVy",
        "colab_type": "text"
      },
      "cell_type": "markdown",
      "source": [
        "Extraer un elemento del conjunto, devuelve uno de sus elementos y lo elimina del conjunto:"
      ]
    },
    {
      "metadata": {
        "id": "m-6gnt8SqwFU",
        "colab_type": "code",
        "colab": {}
      },
      "cell_type": "code",
      "source": [
        "print(s2.pop())"
      ],
      "execution_count": 0,
      "outputs": []
    },
    {
      "metadata": {
        "id": "hHU2n4C8q1FN",
        "colab_type": "text"
      },
      "cell_type": "markdown",
      "source": [
        "Eliminar un elemento concreto:"
      ]
    },
    {
      "metadata": {
        "id": "uDW-bxMqq0X2",
        "colab_type": "code",
        "colab": {}
      },
      "cell_type": "code",
      "source": [
        "s.remove('B')"
      ],
      "execution_count": 0,
      "outputs": []
    },
    {
      "metadata": {
        "id": "m8tQFUuSq-75",
        "colab_type": "text"
      },
      "cell_type": "markdown",
      "source": [
        "## Ejercicios\n",
        "\n",
        "1- Reimplmentar la función del calculo de los 100 primeros primos haciendo uso de conjuntos.\n",
        "\n",
        "2- Crear una función que recibe un número y devuelve una lista con sus digitos.\n",
        "\n",
        "3- Un número es cubifinito si al elevar sus dígitos al cubo y sumarlos, da como resultado 1 u otro número cubifinito. Crear una función que reciba un número y devuelva si es cubifinito.\n",
        "\n",
        "4- Implementar las funciones sobre conjuntos, unión, intersección, diferencia y copia."
      ]
    },
    {
      "metadata": {
        "id": "aj3cwdBMrmCs",
        "colab_type": "code",
        "colab": {}
      },
      "cell_type": "code",
      "source": [
        "None"
      ],
      "execution_count": 0,
      "outputs": []
    },
    {
      "metadata": {
        "id": "ZCl9081vrnDu",
        "colab_type": "text"
      },
      "cell_type": "markdown",
      "source": [
        "## Frozenset\n",
        "\n",
        "Los set al ser mutables, no son hasheables y por lo tanto no puede existir un set de sets.\n",
        "\n",
        "Si se quiere crear tal estructura o se necesita hashear un set, usaremos un frozenset.\n",
        "\n",
        "Los frozenset son conjuntos inmutables, una vez creados no podemos añadir, eliminar ni modificar elementos. Para crear un frozenset se usará el constructor forzenset().\n",
        "\n",
        "## Operaciones sobre conjuntos\n",
        "\n",
        "Todo conjunto, sea set o frozenset, tiene las siguientes operaciones:\n",
        "\n",
        "- Si dos conjuntos solapan:"
      ]
    },
    {
      "metadata": {
        "id": "3tieuohztbAy",
        "colab_type": "code",
        "colab": {}
      },
      "cell_type": "code",
      "source": [
        "fs1 = frozenset([1, 2, 3])\n",
        "fs2 = frozenset([1, 2, 3, 4, 5])\n",
        "fs3 = frozenset(['A', 'B', 'C'])\n",
        "print('S1 disjoint s2:', fs1.isdisjoint(fs2))\n",
        "print('S1 disjoint s3:', fs1.isdisjoint(fs3))"
      ],
      "execution_count": 0,
      "outputs": []
    },
    {
      "metadata": {
        "id": "46hbtZ4puI_A",
        "colab_type": "text"
      },
      "cell_type": "markdown",
      "source": [
        "- Si un conjunto es subconjunto, subconjunto extricto, superconjunto, superconjunto extricto:"
      ]
    },
    {
      "metadata": {
        "id": "2k9fiIt9uTA4",
        "colab_type": "code",
        "colab": {}
      },
      "cell_type": "code",
      "source": [
        "print('S1 subconjunto de s2:', fs1.issubset(fs2))\n",
        "print('S3 subconjunto de s2:', fs3 <= fs2)\n",
        "print('S1 subconjunto extricto de s2:', fs1 < fs2)\n",
        "print('S2 superconunto de s1:', fs2.issuperset(fs1))\n",
        "print('S2 superconunto de s3:', fs2 >= fs3)\n",
        "print('S2 superconunto extricto de s1:', fs2 > fs1)"
      ],
      "execution_count": 0,
      "outputs": []
    },
    {
      "metadata": {
        "id": "FaS9fOZhvBnW",
        "colab_type": "text"
      },
      "cell_type": "markdown",
      "source": [
        "- Union, intersección y diferencia:"
      ]
    },
    {
      "metadata": {
        "id": "7Ogw4nQ1vFVc",
        "colab_type": "code",
        "colab": {}
      },
      "cell_type": "code",
      "source": [
        "print(fs1.union(fs3))\n",
        "print(fs1.intersection(fs2))\n",
        "print(fs2.difference(fs1))"
      ],
      "execution_count": 0,
      "outputs": []
    },
    {
      "metadata": {
        "id": "3cus3Cbqv8cu",
        "colab_type": "text"
      },
      "cell_type": "markdown",
      "source": [
        "- Copiar conjuntos (no podemos usar [:]):"
      ]
    },
    {
      "metadata": {
        "id": "I7DKV4pLwC7k",
        "colab_type": "code",
        "colab": {}
      },
      "cell_type": "code",
      "source": [
        "fs4 = fs1.copy()\n",
        "print(fs4)"
      ],
      "execution_count": 0,
      "outputs": []
    },
    {
      "metadata": {
        "id": "ZM7x9H-7wXIm",
        "colab_type": "text"
      },
      "cell_type": "markdown",
      "source": [
        "## Ejercicios\n",
        "\n",
        "1- En una lista de numeros, todo número está emparejado con su opuesto (si está el 3, está también el -3). Los números y sus parejas no están en ninguna posición conocida. Dada una lista de este tipo, en la que uno de los números no tiene pareja, crear una función que dada la lista, devuelva el número sin pareja.\n",
        "\n",
        "2- Similar a la anterior lista, existe otra lista de números en la que todos los números estan 2 veces excepto uno. Crear un programa que devuelva que número no está repetido.\n",
        "\n",
        "3- Dado un conjunto númerico, devolver una tupla con 2 conjuntos, el primero contendrá los pares y el segundo los impares.\n",
        "\n",
        "4- Crear una función que devuelva el conjunto potencia."
      ]
    },
    {
      "metadata": {
        "id": "v5dci3sexwhA",
        "colab_type": "code",
        "colab": {}
      },
      "cell_type": "code",
      "source": [
        "None"
      ],
      "execution_count": 0,
      "outputs": []
    },
    {
      "metadata": {
        "id": "NlzKwdEYxxo0",
        "colab_type": "text"
      },
      "cell_type": "markdown",
      "source": [
        "# Diccionarios\n",
        "\n",
        "Es una colección de parejas clave valor, la clave ha de ser hasheable y el valor puede ser arbitrario.\n",
        "\n",
        "Para crear un diccionario encerramos entre llaves parejas de clave valor separadas por dos puntos (:)."
      ]
    },
    {
      "metadata": {
        "id": "OiGTNGVIyIGc",
        "colab_type": "code",
        "colab": {
          "base_uri": "https://localhost:8080/",
          "height": 35
        },
        "outputId": "5cd0f01a-dab2-4232-8270-b9826e7b964a"
      },
      "cell_type": "code",
      "source": [
        "d = {'one' : 1, 'two' : 2, 'three' : 3}\n",
        "print(d)"
      ],
      "execution_count": 29,
      "outputs": [
        {
          "output_type": "stream",
          "text": [
            "{'one': 1, 'two': 2, 'three': 3}\n"
          ],
          "name": "stdout"
        }
      ]
    },
    {
      "metadata": {
        "id": "4KgFw5uLySJ2",
        "colab_type": "text"
      },
      "cell_type": "markdown",
      "source": [
        "Como en otras colecciones, existe el constructor dict(). Para crear un diccionario vacio también podemos usar dos llaves ({})."
      ]
    },
    {
      "metadata": {
        "id": "OnJSq-_nykbi",
        "colab_type": "code",
        "colab": {}
      },
      "cell_type": "code",
      "source": [
        "d1 = dict()\n",
        "d2 = {}\n",
        "d3 = dict({'two' : 2, 'one' : 1, 'three' : 3})\n",
        "print(d1)\n",
        "print(d2)\n",
        "print(d3)"
      ],
      "execution_count": 0,
      "outputs": []
    },
    {
      "metadata": {
        "id": "N-FddEuFy848",
        "colab_type": "text"
      },
      "cell_type": "markdown",
      "source": [
        "La función len() devuelve cuantas parejas hay en el diccionario:"
      ]
    },
    {
      "metadata": {
        "id": "dzf-c-6tzGmk",
        "colab_type": "code",
        "colab": {}
      },
      "cell_type": "code",
      "source": [
        "len(d)"
      ],
      "execution_count": 0,
      "outputs": []
    },
    {
      "metadata": {
        "id": "ykQlS7-vzJAl",
        "colab_type": "text"
      },
      "cell_type": "markdown",
      "source": [
        "A la hora de preguntar por pertenencia, se pregunta por las claves:"
      ]
    },
    {
      "metadata": {
        "id": "9BXd4Z7gzToJ",
        "colab_type": "code",
        "colab": {}
      },
      "cell_type": "code",
      "source": [
        "'one' in d3"
      ],
      "execution_count": 0,
      "outputs": []
    },
    {
      "metadata": {
        "id": "uhXy-Hp8zXHV",
        "colab_type": "code",
        "colab": {}
      },
      "cell_type": "code",
      "source": [
        "1 in d3"
      ],
      "execution_count": 0,
      "outputs": []
    },
    {
      "metadata": {
        "id": "UDKrQKflzZ9V",
        "colab_type": "text"
      },
      "cell_type": "markdown",
      "source": [
        "Los diccionarios son mutables:"
      ]
    },
    {
      "metadata": {
        "id": "LCF8XOy2zdNB",
        "colab_type": "code",
        "colab": {}
      },
      "cell_type": "code",
      "source": [
        "d['cuatro'] = 4\n",
        "print(d)"
      ],
      "execution_count": 0,
      "outputs": []
    },
    {
      "metadata": {
        "id": "C1bstXUPzkIR",
        "colab_type": "text"
      },
      "cell_type": "markdown",
      "source": [
        "## Ejercicios\n",
        "\n",
        "1- Modifica la Practica 1 para hacer uso de conjuntos\n",
        "\n",
        "2- Crea una función que devuelva el conjunto cartesiano de dos conjuntos (conjunto con todos los pares del primero con el segundo)\n",
        "\n",
        "3- Crear una función que devuelva el número de caracteres de una cadena.\n",
        "\n",
        "4- Crear una función que devuelva el número de apariciones de cada palabra en una frase.\n",
        "\n",
        "5- Utilizar el modulo random para craruna función que simule N tiradas de 2 dados y cuente cuantas veces aparece cada resultado."
      ]
    },
    {
      "metadata": {
        "id": "Laf1e3Qq0LsK",
        "colab_type": "code",
        "colab": {}
      },
      "cell_type": "code",
      "source": [
        "None"
      ],
      "execution_count": 0,
      "outputs": []
    },
    {
      "metadata": {
        "id": "iErDoKmr0MiJ",
        "colab_type": "text"
      },
      "cell_type": "markdown",
      "source": [
        "Usando el constructor dict() puede recibir, un diccionario, una lista de tuplas, cada tupla con 2 elementos o la función zip(), que mezcla 2 listas:"
      ]
    },
    {
      "metadata": {
        "id": "LYegIV_O0xTv",
        "colab_type": "code",
        "colab": {}
      },
      "cell_type": "code",
      "source": [
        "d5 = dict([('one', 1), ('two', 2), ('three', 3)])\n",
        "keys = ['one', 'two', 'three']\n",
        "values = [1, 2, 3]\n",
        "d6 = dict(zip(keys, values))\n",
        "print(d5)\n",
        "print(d6)"
      ],
      "execution_count": 0,
      "outputs": []
    },
    {
      "metadata": {
        "id": "EGUivU4c1S_0",
        "colab_type": "text"
      },
      "cell_type": "markdown",
      "source": [
        "Dado un diccionario se puede extraer la lista de claves:"
      ]
    },
    {
      "metadata": {
        "id": "vtkbt9j11k3y",
        "colab_type": "code",
        "colab": {}
      },
      "cell_type": "code",
      "source": [
        "print(d6.keys())"
      ],
      "execution_count": 0,
      "outputs": []
    },
    {
      "metadata": {
        "id": "Iab2dqxE1nkV",
        "colab_type": "text"
      },
      "cell_type": "markdown",
      "source": [
        "lista de valores:"
      ]
    },
    {
      "metadata": {
        "id": "gGlwVNIv1qaN",
        "colab_type": "code",
        "colab": {}
      },
      "cell_type": "code",
      "source": [
        "print(d6.values())"
      ],
      "execution_count": 0,
      "outputs": []
    },
    {
      "metadata": {
        "id": "k9slD7lI1tc6",
        "colab_type": "text"
      },
      "cell_type": "markdown",
      "source": [
        "o una lista de parejas clave valor:"
      ]
    },
    {
      "metadata": {
        "id": "YCKo2_fO1wzw",
        "colab_type": "code",
        "colab": {}
      },
      "cell_type": "code",
      "source": [
        "print(d6.items())"
      ],
      "execution_count": 0,
      "outputs": []
    },
    {
      "metadata": {
        "id": "_YOMNLzk12_k",
        "colab_type": "text"
      },
      "cell_type": "markdown",
      "source": [
        "Para consultar el valor de una clave, se puede usar la función get() que tiene la ventaja de que si la clave no esta, en lugar de fallar, puede devolver un valor por defecto:"
      ]
    }
  ]
}